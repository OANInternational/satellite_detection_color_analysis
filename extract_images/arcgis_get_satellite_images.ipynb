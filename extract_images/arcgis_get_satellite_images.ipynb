{
 "cells": [
  {
   "cell_type": "code",
   "execution_count": 1,
   "metadata": {},
   "outputs": [],
   "source": [
    "import pandas as pd\n",
    "import numpy as np\n",
    "\n",
    "#requests for overpass querys\n",
    "import requests\n",
    "\n",
    "#to get map from arcgis\n",
    "from arcgis.gis import GIS\n",
    "\n",
    "#for environment variables\n",
    "import os\n",
    "from dotenv import load_dotenv\n",
    "\n",
    "#to get villages\n",
    "from fuzzywuzzy import process\n",
    "\n",
    "#to extract images\n",
    "from selenium import webdriver\n",
    "from ipywidgets.embed import embed_minimal_html"
   ]
  },
  {
   "cell_type": "code",
   "execution_count": 2,
   "metadata": {},
   "outputs": [
    {
     "data": {
      "text/plain": [
       "True"
      ]
     },
     "execution_count": 2,
     "metadata": {},
     "output_type": "execute_result"
    }
   ],
   "source": [
    "##LOAD ENVIRONMENT from a .env file\n",
    "load_dotenv()"
   ]
  },
  {
   "cell_type": "markdown",
   "metadata": {},
   "source": [
    "## OVERPASS - OPENSTREETMAPS\n",
    "\n",
    "get coordinates of some village"
   ]
  },
  {
   "cell_type": "markdown",
   "metadata": {},
   "source": [
    "#### to learn :\n",
    "http://osmlab.github.io/learnoverpass//en/"
   ]
  },
  {
   "cell_type": "code",
   "execution_count": 3,
   "metadata": {},
   "outputs": [],
   "source": [
    "overpass_url = \"http://overpass-api.de/api/interpreter\""
   ]
  },
  {
   "cell_type": "markdown",
   "metadata": {},
   "source": [
    "#### GET ALL VILLAGES IN NIKKI"
   ]
  },
  {
   "cell_type": "code",
   "execution_count": 4,
   "metadata": {},
   "outputs": [],
   "source": [
    "# got the idea from http://osmlab.github.io/learnoverpass/en/docs/filters/around/\n",
    "overpass_query= (\"\"\"\n",
    "                    [out:json];\n",
    "                    area['name'='Nikki']->.a;\n",
    "                    way[place=village](area.a);\n",
    "                    (._;>;);\n",
    "                    out body;\n",
    "                    \"\"\")\n",
    "\n",
    "response = requests.get(overpass_url,\n",
    "                    params={\n",
    "                        \"data\":overpass_query\n",
    "                    })"
   ]
  },
  {
   "cell_type": "code",
   "execution_count": 5,
   "metadata": {},
   "outputs": [],
   "source": [
    "data=response.json()"
   ]
  },
  {
   "cell_type": "code",
   "execution_count": 6,
   "metadata": {},
   "outputs": [],
   "source": [
    "villages = [elem for elem in data['elements'] \n",
    "                 if elem['type'] == 'way']"
   ]
  },
  {
   "cell_type": "code",
   "execution_count": 7,
   "metadata": {},
   "outputs": [],
   "source": [
    "df_villages = pd.DataFrame(villages)"
   ]
  },
  {
   "cell_type": "code",
   "execution_count": 8,
   "metadata": {},
   "outputs": [],
   "source": [
    "df_villages['name']=df_villages['tags'].apply(lambda x: \n",
    "                                              x['name'] if 'name' in x.keys() \n",
    "                                              else None)"
   ]
  },
  {
   "cell_type": "code",
   "execution_count": 9,
   "metadata": {},
   "outputs": [],
   "source": [
    "vil_names = df_villages['name'].to_list()"
   ]
  },
  {
   "cell_type": "markdown",
   "metadata": {},
   "source": [
    "### get desired village"
   ]
  },
  {
   "cell_type": "code",
   "execution_count": 10,
   "metadata": {},
   "outputs": [
    {
     "name": "stdout",
     "output_type": "stream",
     "text": [
      "('ALAFIAROU', 100)\n"
     ]
    },
    {
     "data": {
      "text/plain": [
       "'ALAFIAROU'"
      ]
     },
     "execution_count": 10,
     "metadata": {},
     "output_type": "execute_result"
    }
   ],
   "source": [
    "#busquemos el pueblo de Sansi Gando - o cualquier otro modificando sansi gando\n",
    "#string_search=\"Sansi Gando\"\n",
    "string_search=\"Alafiarou\"\n",
    "proc = process.extractOne(string_search,vil_names)\n",
    "print(proc)\n",
    "vil=proc[0]\n",
    "vil"
   ]
  },
  {
   "cell_type": "code",
   "execution_count": 11,
   "metadata": {},
   "outputs": [
    {
     "data": {
      "text/plain": [
       "737420357"
      ]
     },
     "execution_count": 11,
     "metadata": {},
     "output_type": "execute_result"
    }
   ],
   "source": [
    "id_vil = df_villages[df_villages['name']==vil]['id'].values[0]\n",
    "id_vil"
   ]
  },
  {
   "cell_type": "markdown",
   "metadata": {},
   "source": [
    "##### by element id \n",
    "http://osmlab.github.io/learnoverpass/en/docs/filters/element-id/"
   ]
  },
  {
   "cell_type": "code",
   "execution_count": 12,
   "metadata": {},
   "outputs": [],
   "source": [
    "## busqueda del id\n",
    "overpass_query = (\"\"\"\n",
    "[out:json];\n",
    "area({});\n",
    "(._;>;);\n",
    "out body;\n",
    "\"\"\".format(id_vil))\n",
    "\n",
    "response = requests.get(overpass_url,\n",
    "                    params={\n",
    "                        \"data\":overpass_query\n",
    "                    })"
   ]
  },
  {
   "cell_type": "markdown",
   "metadata": {},
   "source": [
    "##### by name\n",
    "preferred"
   ]
  },
  {
   "cell_type": "code",
   "execution_count": 13,
   "metadata": {},
   "outputs": [],
   "source": [
    "## cogemos las casas del pueblo para calcular el centro\n",
    "overpass_query = (\"\"\"\n",
    "[out:json];\n",
    "area['name'='\"\"\"+vil+\"\"\"']->.a;\n",
    "way[building](area.a);\n",
    "(._;>;);\n",
    "out body;\n",
    "\"\"\")\n",
    "\n",
    "response = requests.get(overpass_url,\n",
    "                    params={\n",
    "                        \"data\":overpass_query\n",
    "                    })"
   ]
  },
  {
   "cell_type": "code",
   "execution_count": 14,
   "metadata": {},
   "outputs": [],
   "source": [
    "data=response.json()"
   ]
  },
  {
   "cell_type": "code",
   "execution_count": 15,
   "metadata": {},
   "outputs": [],
   "source": [
    "## get all houses in the town\n",
    "houses = []\n",
    "ways=[elem for elem in data['elements']  if elem['type']=='way']\n",
    "nodes=[elem for elem in data['elements']  if elem['type']=='node']\n",
    "for way in ways:\n",
    "    houses_info={}\n",
    "    houses_info['id']=way['id']\n",
    "    nodes_lats=[]\n",
    "    nodes_longs=[]\n",
    "    houses_info['nodes']=way['nodes']\n",
    "    for node in nodes:\n",
    "        if node['id'] in houses_info['nodes']:\n",
    "            nodes_lats.append(node['lat'])\n",
    "            nodes_longs.append(node['lon'])\n",
    "    houses_info['lat']=np.mean(np.array(nodes_lats))\n",
    "    houses_info['lon']=np.mean(np.array(nodes_longs))\n",
    "    houses.append(houses_info)"
   ]
  },
  {
   "cell_type": "code",
   "execution_count": 16,
   "metadata": {},
   "outputs": [
    {
     "data": {
      "text/plain": [
       "114"
      ]
     },
     "execution_count": 16,
     "metadata": {},
     "output_type": "execute_result"
    }
   ],
   "source": [
    "df_houses=pd.DataFrame(houses)\n",
    "len(df_houses)"
   ]
  },
  {
   "cell_type": "code",
   "execution_count": 17,
   "metadata": {},
   "outputs": [
    {
     "data": {
      "text/plain": [
       "(9.903679592397662, 3.4022777929093575)"
      ]
     },
     "execution_count": 17,
     "metadata": {},
     "output_type": "execute_result"
    }
   ],
   "source": [
    "center=(df_houses.lat.mean(),df_houses.lon.mean())\n",
    "center"
   ]
  },
  {
   "cell_type": "markdown",
   "metadata": {},
   "source": [
    "### READ FROM ESRI\n",
    "\n",
    "get token from: https://developers.arcgis.com/dashboard <br>\n",
    "documentation: https://developers.arcgis.com/python/guide/using-the-map-widget/ <br>\n",
    "\n",
    "if widget not showing: <br>\n",
    "jupyter nbextension enable --py --sys-prefix arcgis\n",
    "jupyter nbextension enable --py --sys-prefix widgetsnbextension"
   ]
  },
  {
   "cell_type": "code",
   "execution_count": 18,
   "metadata": {},
   "outputs": [],
   "source": [
    "#os.getenv(\"GOOGLE_API_KEY\")"
   ]
  },
  {
   "cell_type": "code",
   "execution_count": 19,
   "metadata": {},
   "outputs": [],
   "source": [
    "gis = GIS(username=os.environ['ESRI_USERNAME'], password=os.environ['ESRI_PASS'])"
   ]
  },
  {
   "cell_type": "code",
   "execution_count": 20,
   "metadata": {},
   "outputs": [],
   "source": [
    "ex_map = gis.map(zoomlevel=17)"
   ]
  },
  {
   "cell_type": "code",
   "execution_count": 21,
   "metadata": {},
   "outputs": [],
   "source": [
    "ex_map.layout={'height':'600px','width':'800px'}"
   ]
  },
  {
   "cell_type": "code",
   "execution_count": 22,
   "metadata": {},
   "outputs": [],
   "source": [
    "ex_map.center =center\n",
    "ex_map.basemap = 'satellite'"
   ]
  },
  {
   "cell_type": "code",
   "execution_count": 24,
   "metadata": {},
   "outputs": [
    {
     "name": "stdout",
     "output_type": "stream",
     "text": [
      "Enabling notebook extension jupyter-js-widgets/extension...\r\n",
      "      - Validating: \u001b[32mOK\u001b[0m\r\n"
     ]
    }
   ],
   "source": [
    "!jupyter nbextension enable --py --sys-prefix widgetsnbextension"
   ]
  },
  {
   "cell_type": "code",
   "execution_count": 25,
   "metadata": {},
   "outputs": [
    {
     "data": {
      "application/vnd.jupyter.widget-view+json": {
       "model_id": "37bf292897ef49beb84241c48a4ee1ae",
       "version_major": 2,
       "version_minor": 0
      },
      "text/plain": [
       "MapView(layout=Layout(height='600px', width='800px'))"
      ]
     },
     "metadata": {},
     "output_type": "display_data"
    },
    {
     "data": {
      "text/html": [
       "<div class=\"map-static-img-preview-4c02432a-4d0b-4aae-919e-4a3a65b7b4cb\"><img src=\"\"></img></div>"
      ],
      "text/plain": [
       "<IPython.core.display.HTML object>"
      ]
     },
     "metadata": {},
     "output_type": "display_data"
    }
   ],
   "source": [
    "ex_map"
   ]
  },
  {
   "cell_type": "code",
   "execution_count": 27,
   "metadata": {},
   "outputs": [
    {
     "data": {
      "text/plain": [
       "True"
      ]
     },
     "execution_count": 27,
     "metadata": {},
     "output_type": "execute_result"
    }
   ],
   "source": [
    "ex_map.export_to_html(vil+'_gmap.html')"
   ]
  },
  {
   "cell_type": "code",
   "execution_count": 481,
   "metadata": {},
   "outputs": [],
   "source": [
    "gmaps.configure(api_key=os.environ[\"GOOGLE_API_KEY\"])"
   ]
  },
  {
   "cell_type": "code",
   "execution_count": 482,
   "metadata": {},
   "outputs": [],
   "source": [
    "fig_layout={\n",
    "        \"width\":800,\n",
    "        \"height\":600\n",
    "            }"
   ]
  },
  {
   "cell_type": "code",
   "execution_count": 504,
   "metadata": {},
   "outputs": [],
   "source": [
    "figure_layout = {\n",
    "    'width': '{}px'.format(fig_layout['width']), #zoom_level_21 this is eq_to 0.002128 longitudes -> each px 2.66e-06 long\n",
    "    'height': '{}px'.format(fig_layout['height']),#zoom_level_21 this is eq_to 0.00147 longitudes -> each px 2.45e-06 lat\n",
    "    'border': '1px solid black',\n",
    "    'padding': '1px'\n",
    "}\n",
    "zoom_level=21"
   ]
  },
  {
   "cell_type": "code",
   "execution_count": 535,
   "metadata": {},
   "outputs": [],
   "source": [
    "#lets_move center for alafiarou\n",
    "new_center = (center[0]+0.0018,center[1]-0.0014)"
   ]
  },
  {
   "cell_type": "code",
   "execution_count": 536,
   "metadata": {},
   "outputs": [],
   "source": [
    "fig2 = gmaps.figure(#center=center,\n",
    "                  center=new_center,\n",
    "                   zoom_level=zoom_level,\n",
    "                   map_type='SATELLITE',\n",
    "                   layout=figure_layout)"
   ]
  },
  {
   "cell_type": "code",
   "execution_count": 571,
   "metadata": {},
   "outputs": [
    {
     "data": {
      "application/vnd.jupyter.widget-view+json": {
       "model_id": "2659984eceab4db1bc3fe06452a3bf5d",
       "version_major": 2,
       "version_minor": 0
      },
      "text/plain": [
       "Figure(layout=FigureLayout(border='1px solid black', height='600px', padding='1px', width='800px'))"
      ]
     },
     "metadata": {},
     "output_type": "display_data"
    }
   ],
   "source": [
    "### if it doesn't show check jupyter nbextension enable --py gmaps\n",
    "fig2"
   ]
  },
  {
   "cell_type": "markdown",
   "metadata": {},
   "source": [
    "### add houses already mapped"
   ]
  },
  {
   "cell_type": "code",
   "execution_count": 538,
   "metadata": {},
   "outputs": [],
   "source": [
    "center=new_center"
   ]
  },
  {
   "cell_type": "code",
   "execution_count": 539,
   "metadata": {},
   "outputs": [],
   "source": [
    "df_houses['dist_center'] = df_houses.apply(lambda x:\n",
    "                                           np.sqrt(\n",
    "                                                   (x['lat']-center[0])**2+(x['lon']-center[1])**2\n",
    "                                                  ),axis=1\n",
    "                                           )"
   ]
  },
  {
   "cell_type": "code",
   "execution_count": 540,
   "metadata": {},
   "outputs": [],
   "source": [
    "df_clos_houses=df_houses[df_houses['dist_center']<df_houses['dist_center'].quantile(0.2)]"
   ]
  },
  {
   "cell_type": "code",
   "execution_count": 541,
   "metadata": {},
   "outputs": [],
   "source": [
    "house_points=[a for a in df_clos_houses.apply(lambda x: (x.lat,x.lon),axis=1)]"
   ]
  },
  {
   "cell_type": "code",
   "execution_count": 542,
   "metadata": {},
   "outputs": [],
   "source": [
    "marker_layer=gmaps.symbol_layer(\n",
    "    house_points, fill_color='red', stroke_color='black', scale=3\n",
    ")"
   ]
  },
  {
   "cell_type": "code",
   "execution_count": 543,
   "metadata": {},
   "outputs": [],
   "source": [
    "fig2.add_layer(marker_layer)"
   ]
  },
  {
   "cell_type": "code",
   "execution_count": 544,
   "metadata": {},
   "outputs": [
    {
     "data": {
      "application/vnd.jupyter.widget-view+json": {
       "model_id": "2659984eceab4db1bc3fe06452a3bf5d",
       "version_major": 2,
       "version_minor": 0
      },
      "text/plain": [
       "Figure(layout=FigureLayout(border='1px solid black', height='600px', padding='1px', width='800px'))"
      ]
     },
     "metadata": {},
     "output_type": "display_data"
    }
   ],
   "source": [
    "fig2"
   ]
  },
  {
   "cell_type": "markdown",
   "metadata": {},
   "source": [
    "### ADD CORNERS"
   ]
  },
  {
   "cell_type": "code",
   "execution_count": 545,
   "metadata": {},
   "outputs": [],
   "source": [
    "corners_converstion = {\n",
    "    21:{\n",
    "        \"latitude\":2.46e-06,\n",
    "        \"longitude\":2.65e-06\n",
    "    }\n",
    "}"
   ]
  },
  {
   "cell_type": "code",
   "execution_count": 546,
   "metadata": {},
   "outputs": [],
   "source": [
    "#Y=9.947598161535087 X=3.41859563381579\n",
    "#right\n",
    "vertical_conv=corners_converstion[zoom_level][\"latitude\"]*fig_layout['height']/2\n",
    "horizontal_conv=corners_converstion[zoom_level][\"longitude\"]*fig_layout['width']/2\n",
    "\n",
    "upper_right_limit=(center[0]+vertical_conv,center[1]+horizontal_conv)\n",
    "lower_right_limit=(center[0]-vertical_conv,center[1]+horizontal_conv)\n",
    "\n",
    "#left\n",
    "upper_left_limit=(center[0]+vertical_conv,center[1]-horizontal_conv)\n",
    "lower_left_limit=(center[0]-vertical_conv,center[1]-horizontal_conv)\n",
    "\n",
    "corners = [upper_right_limit,lower_right_limit,upper_left_limit,lower_left_limit]"
   ]
  },
  {
   "cell_type": "code",
   "execution_count": 550,
   "metadata": {},
   "outputs": [],
   "source": [
    "marker_layer=gmaps.symbol_layer(\n",
    "    corners, fill_color='blue', stroke_color='black', scale=3\n",
    ")"
   ]
  },
  {
   "cell_type": "code",
   "execution_count": 551,
   "metadata": {},
   "outputs": [],
   "source": [
    "fig2.add_layer(marker_layer)"
   ]
  },
  {
   "cell_type": "code",
   "execution_count": 552,
   "metadata": {},
   "outputs": [
    {
     "data": {
      "application/vnd.jupyter.widget-view+json": {
       "model_id": "2659984eceab4db1bc3fe06452a3bf5d",
       "version_major": 2,
       "version_minor": 0
      },
      "text/plain": [
       "Figure(layout=FigureLayout(border='1px solid black', height='600px', padding='1px', width='800px'))"
      ]
     },
     "metadata": {},
     "output_type": "display_data"
    }
   ],
   "source": [
    "fig2"
   ]
  },
  {
   "cell_type": "markdown",
   "metadata": {},
   "source": [
    "## EXPORT MAP"
   ]
  },
  {
   "cell_type": "markdown",
   "metadata": {},
   "source": [
    "## fist export html"
   ]
  },
  {
   "cell_type": "code",
   "execution_count": 556,
   "metadata": {},
   "outputs": [],
   "source": [
    "fig = gmaps.figure(center=center,\n",
    "                   zoom_level=zoom_level,\n",
    "                   map_type='SATELLITE',\n",
    "                   layout=figure_layout)"
   ]
  },
  {
   "cell_type": "code",
   "execution_count": 557,
   "metadata": {},
   "outputs": [],
   "source": [
    "embed_minimal_html(vil+'_21.html', views=[fig])"
   ]
  },
  {
   "cell_type": "markdown",
   "metadata": {},
   "source": [
    "## get html with selenium and screenshot it"
   ]
  },
  {
   "cell_type": "code",
   "execution_count": 558,
   "metadata": {},
   "outputs": [],
   "source": [
    "## https://chromedriver.chromium.org/downloads - for versions of chrome (uploaded to git version 85)\n",
    "driver = webdriver.Chrome(executable_path='/Users/daniel/OAN/SID/sid_color_analysis/extract_images/chromedriver')"
   ]
  },
  {
   "cell_type": "code",
   "execution_count": 559,
   "metadata": {},
   "outputs": [],
   "source": [
    "file = \"file:/Users/daniel/OAN/SID/sid_color_analysis/extract_images/\"+vil+\"_21.html\""
   ]
  },
  {
   "cell_type": "code",
   "execution_count": 560,
   "metadata": {},
   "outputs": [],
   "source": [
    "driver.get(file)"
   ]
  },
  {
   "cell_type": "code",
   "execution_count": 561,
   "metadata": {},
   "outputs": [],
   "source": [
    "driver.find_elements_by_class_name(\"gmaps-toolbar-btn\")[0].click()"
   ]
  },
  {
   "cell_type": "code",
   "execution_count": 562,
   "metadata": {},
   "outputs": [],
   "source": [
    "source=\"/Users/daniel/Downloads/map.png\""
   ]
  },
  {
   "cell_type": "code",
   "execution_count": 563,
   "metadata": {},
   "outputs": [],
   "source": [
    "end=\"/Users/daniel/OAN/SID/sid_color_analysis/extract_images/\"+vil+\"_21.png\""
   ]
  },
  {
   "cell_type": "code",
   "execution_count": 564,
   "metadata": {},
   "outputs": [],
   "source": [
    "os.rename(source, end)"
   ]
  },
  {
   "cell_type": "markdown",
   "metadata": {},
   "source": [
    "### CUT IMAGE"
   ]
  },
  {
   "cell_type": "code",
   "execution_count": 565,
   "metadata": {},
   "outputs": [],
   "source": [
    "from PIL import Image"
   ]
  },
  {
   "cell_type": "code",
   "execution_count": 400,
   "metadata": {},
   "outputs": [],
   "source": [
    "def crop(image_path, coords, saved_location):\n",
    "    \"\"\"\n",
    "    @param image_path: The path to the image to edit\n",
    "    @param coords: A tuple of x/y coordinates (x1, y1, x2, y2)\n",
    "    @param saved_location: Path to save the cropped image\n",
    "    \"\"\"\n",
    "    image_obj = Image.open(image_path)\n",
    "    cropped_image = image_obj.crop(coords)\n",
    "    cropped_image.save(saved_location)"
   ]
  },
  {
   "cell_type": "code",
   "execution_count": 566,
   "metadata": {},
   "outputs": [],
   "source": [
    "#cut=\"/Users/daniel/OAN/nikki_map_house_count/all_tog/\"+village+'2.png'\n",
    "cut=\"/Users/daniel/OAN/SID/sid_color_analysis/extract_images/crop_\"+vil+\"_21.png\""
   ]
  },
  {
   "cell_type": "code",
   "execution_count": 567,
   "metadata": {},
   "outputs": [],
   "source": [
    "crop(end,(0, 100, 745, 535),cut)"
   ]
  },
  {
   "cell_type": "markdown",
   "metadata": {},
   "source": [
    "## FOR MACHINE LEARNING MODEL\n",
    "\n",
    "lets crop an image of just house"
   ]
  },
  {
   "cell_type": "code",
   "execution_count": 462,
   "metadata": {},
   "outputs": [],
   "source": [
    "#iloc 0 and 1 are real houses\n",
    "#one_house=df_houses.sort_values(by='dist_center').reset_index(drop=True).iloc[0]\n",
    "one_house=df_houses.sort_values(by='dist_center').reset_index(drop=True).iloc[1]"
   ]
  },
  {
   "cell_type": "code",
   "execution_count": 463,
   "metadata": {},
   "outputs": [],
   "source": [
    "house_lat = one_house['lat']\n",
    "house_lon = one_house['lon']"
   ]
  },
  {
   "cell_type": "code",
   "execution_count": 464,
   "metadata": {},
   "outputs": [
    {
     "name": "stdout",
     "output_type": "stream",
     "text": [
      "441.21403865300226 508.458937437641\n"
     ]
    }
   ],
   "source": [
    "#upper_left_limit = (0,0)\n",
    "pix_house_hoz_center=fig_layout['width']*(upper_left_limit[0]-house_lat)/(fig_layout['width']*corners_converstion[zoom_level]['latitude'])\n",
    "pix_house_ver_center=fig_layout['height']*(house_lon-upper_left_limit[1])/(fig_layout['height']*corners_converstion[zoom_level]['longitude'])\n",
    "print(pix_house_hoz_center,pix_house_ver_center)"
   ]
  },
  {
   "cell_type": "code",
   "execution_count": 465,
   "metadata": {},
   "outputs": [],
   "source": [
    "cut=\"/Users/daniel/OAN/SID/sid_color_analysis/extract_images/second_house.png\""
   ]
  },
  {
   "cell_type": "code",
   "execution_count": 466,
   "metadata": {},
   "outputs": [],
   "source": [
    "box=40"
   ]
  },
  {
   "cell_type": "code",
   "execution_count": 467,
   "metadata": {},
   "outputs": [],
   "source": [
    "left_cut=pix_house_hoz_center-box\n",
    "rigth_cut=pix_house_hoz_center+box\n",
    "upp_cut=pix_house_ver_center-box\n",
    "lower_cut=pix_house_ver_center+box"
   ]
  },
  {
   "cell_type": "code",
   "execution_count": 468,
   "metadata": {},
   "outputs": [],
   "source": [
    "crop(end,(upp_cut, left_cut, lower_cut, rigth_cut),cut)"
   ]
  },
  {
   "cell_type": "markdown",
   "metadata": {},
   "source": [
    "## lets get all"
   ]
  },
  {
   "cell_type": "code",
   "execution_count": 568,
   "metadata": {},
   "outputs": [],
   "source": [
    "df_sort_houses = df_houses.sort_values(by='dist_center').reset_index(drop=True)\n",
    "box=40"
   ]
  },
  {
   "cell_type": "code",
   "execution_count": 570,
   "metadata": {},
   "outputs": [],
   "source": [
    "for i in range(len(df_clos_houses)):\n",
    "    #get house\n",
    "    one_house=df_sort_houses.iloc[i]\n",
    "    house_lat = one_house['lat']\n",
    "    house_lon = one_house['lon']\n",
    "    \n",
    "    #transform to pixels\n",
    "    pix_house_hoz_center=fig_layout['width']*(upper_left_limit[0]-house_lat)/(fig_layout['width']*corners_converstion[zoom_level]['latitude'])\n",
    "    pix_house_ver_center=fig_layout['height']*(house_lon-upper_left_limit[1])/(fig_layout['height']*corners_converstion[zoom_level]['longitude'])\n",
    "\n",
    "    cut=\"/Users/daniel/OAN/SID/sid_color_analysis/extract_images/houses/\"+vil+\"/{}_house.png\".format(i)\n",
    "    \n",
    "    left_cut=pix_house_hoz_center-box\n",
    "    rigth_cut=pix_house_hoz_center+box\n",
    "    upp_cut=pix_house_ver_center-box\n",
    "    lower_cut=pix_house_ver_center+box\n",
    "    \n",
    "    crop(end,(upp_cut, left_cut, lower_cut, rigth_cut),cut)"
   ]
  },
  {
   "cell_type": "code",
   "execution_count": null,
   "metadata": {},
   "outputs": [],
   "source": []
  }
 ],
 "metadata": {
  "kernelspec": {
   "display_name": "sid",
   "language": "python",
   "name": "sid"
  },
  "language_info": {
   "codemirror_mode": {
    "name": "ipython",
    "version": 3
   },
   "file_extension": ".py",
   "mimetype": "text/x-python",
   "name": "python",
   "nbconvert_exporter": "python",
   "pygments_lexer": "ipython3",
   "version": "3.8.5"
  }
 },
 "nbformat": 4,
 "nbformat_minor": 4
}
